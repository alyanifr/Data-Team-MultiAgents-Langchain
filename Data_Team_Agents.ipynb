{
  "cells": [
    {
      "cell_type": "code",
      "execution_count": null,
      "metadata": {
        "colab": {
          "base_uri": "https://localhost:8080/"
        },
        "collapsed": true,
        "id": "mv5GgatjX3hc",
        "outputId": "6efe20a8-c9b0-4dd1-8609-f19fa8c4e572"
      },
      "outputs": [],
      "source": [
        "# !pip install --q langchain-core\n",
        "# !pip install --q langchain-community\n",
        "# !pip install --q langchain_google_genai\n",
        "# !pip install --q crewai[tools]"
      ]
    },
    {
      "cell_type": "code",
      "execution_count": null,
      "metadata": {},
      "outputs": [],
      "source": [
        "from dotenv import load_dotenv\n",
        "print(\"Environment variables are loaded:\", load_dotenv())"
      ]
    },
    {
      "cell_type": "markdown",
      "metadata": {
        "id": "SZiiHoEro4hI"
      },
      "source": [
        "## **Database Preparation**\n",
        "The data used in this project is a snapshot of the modern job market on the role of AI from [Kaggle](https://www.kaggle.com/datasets/uom190346a/ai-powered-job-market-insights?resource=download)."
      ]
    },
    {
      "cell_type": "code",
      "execution_count": null,
      "metadata": {
        "colab": {
          "base_uri": "https://localhost:8080/",
          "height": 313
        },
        "id": "3O-rpqyDohzy",
        "outputId": "f57ab91d-71fd-4f70-d664-64e62b2c142a"
      },
      "outputs": [],
      "source": [
        "import pandas as pd\n",
        "\n",
        "# Load the dataset\n",
        "df = pd.read_csv(\"data/ai_job_market_insights.csv\")\n",
        "\n",
        "df.head()"
      ]
    },
    {
      "cell_type": "code",
      "execution_count": null,
      "metadata": {},
      "outputs": [],
      "source": [
        "df.info()"
      ]
    },
    {
      "cell_type": "code",
      "execution_count": null,
      "metadata": {
        "colab": {
          "base_uri": "https://localhost:8080/"
        },
        "id": "NTIl675Ot93I",
        "outputId": "26627ceb-04ee-4093-abdc-ed40f5e9538f"
      },
      "outputs": [],
      "source": [
        "import sqlite3\n",
        "\n",
        "# Create a SQLite database and write the data to a table\n",
        "connection = sqlite3.connect(\"job_insights.db\")\n",
        "df.to_sql(name=\"job_insights\", con=connection, if_exists='replace', index=False)"
      ]
    },
    {
      "cell_type": "markdown",
      "metadata": {
        "id": "wBkjZMmuu7_i"
      },
      "source": [
        "## **Implementing Tools for SQL Operations**\n",
        "Define various tools to interact with the SQLite database. These tools will include functionalities to list tables, get table schemas, execute SQL queries, and check SQL queries for correctness."
      ]
    },
    {
      "cell_type": "code",
      "execution_count": null,
      "metadata": {
        "id": "m5dBKoLIztub"
      },
      "outputs": [],
      "source": [
        "import os\n",
        "from langchain_google_genai.llms import GoogleGenerativeAI\n",
        "# from google.colab import userdata\n",
        "\n",
        "# Define llm\n",
        "llm = GoogleGenerativeAI(model=\"gemini-pro\",\n",
        "                         google_api_key=os.getenv('GOOGLE_API_KEY'))"
      ]
    },
    {
      "cell_type": "code",
      "execution_count": null,
      "metadata": {
        "colab": {
          "base_uri": "https://localhost:8080/",
          "height": 53
        },
        "id": "FIQhKRROu1ad",
        "outputId": "45d87061-94ea-4edc-f86b-34e8fabcac1d"
      },
      "outputs": [],
      "source": [
        "from langchain_community.tools.sql_database.tool import (\n",
        "    InfoSQLDatabaseTool,\n",
        "    ListSQLDatabaseTool,\n",
        "    QuerySQLCheckerTool,\n",
        "    QuerySQLDataBaseTool,\n",
        ")\n",
        "from langchain_community.utilities.sql_database import SQLDatabase\n",
        "from crewai_tools import tool\n",
        "\n",
        "\n",
        "# Load the database\n",
        "db = SQLDatabase.from_uri(\"sqlite:///job_insights.db\")\n",
        "\n",
        "# Define the tools\n",
        "@tool(\"list_tables\")\n",
        "def list_tables() -> str:\n",
        "    \"\"\"List the available tables in the database\"\"\"\n",
        "    return ListSQLDatabaseTool(db=db).invoke(\"\")\n",
        "\n",
        "list_tables.run()"
      ]
    },
    {
      "cell_type": "code",
      "execution_count": null,
      "metadata": {
        "colab": {
          "base_uri": "https://localhost:8080/"
        },
        "id": "-hZI0pzH0cwF",
        "outputId": "4c6b9bd9-ab4a-4c2e-8df4-7b5d0dc2b848"
      },
      "outputs": [],
      "source": [
        "@tool(\"tables_schema\")\n",
        "def tables_schema(tables: str) -> str:\n",
        "    \"\"\"\n",
        "    Input is a comma-separated list of tables, output is the schema and sample rows\n",
        "    for those tables. Be sure that the tables actually exist by calling 'list_table' first.\n",
        "    Example Input: table1, table2, table3\n",
        "    \"\"\"\n",
        "    tool = InfoSQLDatabaseTool(db=db)\n",
        "    return tool.invoke(tables)\n",
        "\n",
        "print(tables_schema.run(\"job_insights\"))"
      ]
    },
    {
      "cell_type": "code",
      "execution_count": null,
      "metadata": {
        "colab": {
          "base_uri": "https://localhost:8080/",
          "height": 70
        },
        "id": "UjQvmF9e1VAj",
        "outputId": "c66a4734-d984-40f1-9938-346003a9851d"
      },
      "outputs": [],
      "source": [
        "@tool(\"execute_sql\")\n",
        "def execute_sql(sql_query: str) -> str:\n",
        "    \"\"\"Execute a SQL query against the database. Returns the result of the query.\"\"\"\n",
        "    return QuerySQLDataBaseTool(db=db).invoke(sql_query)\n",
        "\n",
        "execute_sql.run(\"SELECT DISTINCT Industry FROM job_insights WHERE AI_Adoption_Level = 'High'\")"
      ]
    },
    {
      "cell_type": "code",
      "execution_count": null,
      "metadata": {
        "colab": {
          "base_uri": "https://localhost:8080/",
          "height": 53
        },
        "id": "7ACpDbb_1XkW",
        "outputId": "77614923-5d54-4716-94cb-5521fb7f0dc9"
      },
      "outputs": [],
      "source": [
        "@tool(\"check_sql\")\n",
        "def check_sql(sql_query: str) -> str:\n",
        "    \"\"\"\n",
        "    Use this tool to double-check if your query is correct before executing\n",
        "    it with 'execute_sql'. Always use this tool before executing a query with 'execute_sql'.\n",
        "    \"\"\"\n",
        "    return QuerySQLCheckerTool(db=db, llm=llm).invoke({\"query\": sql_query})\n",
        "\n",
        "check_sql.run(\"SELECT * WHERE Salary_USD < 100000 LIMIT 5 table = job_insights\")"
      ]
    },
    {
      "cell_type": "code",
      "execution_count": null,
      "metadata": {
        "id": "OOiR1fR049Nd"
      },
      "outputs": [],
      "source": [
        "from textwrap import dedent\n",
        "from crewai import Agent, Task, Crew, Process\n",
        "\n",
        "sql_dev = Agent(\n",
        "    role=\"Senior Database Developer\",\n",
        "    goal=\"Construct and execute SQL queries based on a request\",\n",
        "    backstory=dedent(\n",
        "        \"\"\"\n",
        "        You are an experienced database engineer who is master at creating efficient and complex SQL queries.\n",
        "        You have a deep understanding of how different databases work and how to optimize queries.\n",
        "        Use the `list_tables` to find available tables.\n",
        "        Use the `tables_schema` to understand the metadata for the tables.\n",
        "        Use the `execute_sql` to check your queries for correctness.\n",
        "        Use the `check_sql` to execute queries against the database.\n",
        "    \"\"\"\n",
        "    ),\n",
        "    llm=llm,\n",
        "    tools=[list_tables, tables_schema, execute_sql, check_sql],\n",
        "    allow_delegation=False,\n",
        ")"
      ]
    },
    {
      "cell_type": "code",
      "execution_count": null,
      "metadata": {
        "id": "9wi9QLNYALOg"
      },
      "outputs": [],
      "source": [
        "data_analyst = Agent(\n",
        "    role=\"Senior Data Analyst\",\n",
        "    goal=\"You receive data from the database developer and analyze it\",\n",
        "    backstory=dedent(\n",
        "        \"\"\"\n",
        "        You have more than 10 years of analyzing datasets using Python and are an expert at it.\n",
        "        Your work is always based on the provided data and is clear,\n",
        "        easy-to-understand, and straightforward. You have attention to detail\n",
        "        and always produce very detailed work (as long as you need).\n",
        "    \"\"\"\n",
        "    ),\n",
        "    llm=llm,\n",
        "    allow_delegation=False,\n",
        ")"
      ]
    },
    {
      "cell_type": "code",
      "execution_count": null,
      "metadata": {
        "id": "KLq-Z9TLBTqa"
      },
      "outputs": [],
      "source": [
        "report_generator = Agent(\n",
        "    role=\"Senior Report Editor\",\n",
        "    goal=\"Write an executive summary type of report based on the work of the analyst\",\n",
        "    backstory=dedent(\n",
        "        \"\"\"\n",
        "        Your writing is well known for its clearness and effectiveness in delivering insights.\n",
        "        You always summarize long texts into bullet points that contain the most important details.\n",
        "    \"\"\"\n",
        "    ),\n",
        "    llm=llm,\n",
        "    allow_delegation=False,\n",
        ")"
      ]
    },
    {
      "cell_type": "markdown",
      "metadata": {
        "id": "IvZPQdMqCSUe"
      },
      "source": [
        "## **Creating Tasks and Crew**\n",
        "We defined tasks for each agent and create a Crew to manage the process. Each task corresponds to a specific step in our workflow, from data extraction to analysis and report generation."
      ]
    },
    {
      "cell_type": "code",
      "execution_count": null,
      "metadata": {
        "id": "wRfJGW12ClXb"
      },
      "outputs": [],
      "source": [
        "extract_data = Task(\n",
        "    description=\"Extract data that is required for the query {query}\",\n",
        "    expected_output=\"Database result for the query\",\n",
        "    agent=sql_dev,\n",
        ")"
      ]
    },
    {
      "cell_type": "code",
      "execution_count": null,
      "metadata": {
        "id": "dnDag1MpHvEd"
      },
      "outputs": [],
      "source": [
        "analyze_data = Task(\n",
        "    description=\"Analyze the data from the database and write an analysis for {query}\",\n",
        "    expected_output=\"Detailed analysis text\",\n",
        "    agent=data_analyst,\n",
        "    context=[extract_data],\n",
        ")"
      ]
    },
    {
      "cell_type": "code",
      "execution_count": null,
      "metadata": {
        "id": "Bt0irqD4IKHO"
      },
      "outputs": [],
      "source": [
        "write_report = Task(\n",
        "    description=dedent(\n",
        "        \"\"\"\n",
        "        Write an executive summary of the report from the analysis.\n",
        "        You always write reports in bullet points of the key findings.\n",
        "        The report must be less than 100 words.\n",
        "    \"\"\"\n",
        "    ),\n",
        "    expected_output=\"Markdown report\",\n",
        "    agent=report_generator,\n",
        "    context=[analyze_data],\n",
        ")"
      ]
    },
    {
      "cell_type": "code",
      "execution_count": null,
      "metadata": {
        "id": "arhan1kCImPe"
      },
      "outputs": [],
      "source": [
        "crew =  Crew(\n",
        "    agents=[sql_dev, data_analyst, report_generator],\n",
        "    tasks=[extract_data, analyze_data, write_report],\n",
        "    process=Process.sequential,\n",
        "    verbose=True,\n",
        "    memory=False,\n",
        "    output_log_file=\"crew.log\",\n",
        ")"
      ]
    },
    {
      "cell_type": "markdown",
      "metadata": {
        "id": "alyZRrV3JO7h"
      },
      "source": [
        "## **Executing the Process**\n",
        "Finally, we execute the process by providing the query input to the crew. This input will be processed sequentially by each agent according to their defined tasks."
      ]
    },
    {
      "cell_type": "code",
      "execution_count": null,
      "metadata": {
        "colab": {
          "base_uri": "https://localhost:8080/"
        },
        "id": "bSOF_fbyJMxW",
        "outputId": "8c8ccf67-b97c-4526-f4cf-0c12104b8a69"
      },
      "outputs": [],
      "source": [
        "inputs = {\n",
        "    \"query\": \"How is the salary in USD of a Data Scientist based on the company's AI adoption level?\"\n",
        "}\n",
        "\n",
        "result = crew.kickoff(inputs=inputs)"
      ]
    },
    {
      "cell_type": "code",
      "execution_count": null,
      "metadata": {
        "colab": {
          "base_uri": "https://localhost:8080/"
        },
        "id": "XsP-hvWPKcQs",
        "outputId": "209b7159-f28d-48d5-f0d2-8899aedd1580"
      },
      "outputs": [],
      "source": [
        "print(result)"
      ]
    },
    {
      "cell_type": "code",
      "execution_count": null,
      "metadata": {
        "colab": {
          "base_uri": "https://localhost:8080/"
        },
        "id": "nGhEzHXKLJjH",
        "outputId": "ceccd058-e263-48e4-b842-213444f0fb76"
      },
      "outputs": [],
      "source": [
        "inputs = {\n",
        "    \"query\": \"Which industry is leading with its AI adoption?\"\n",
        "}\n",
        "\n",
        "result = crew.kickoff(inputs=inputs)"
      ]
    },
    {
      "cell_type": "code",
      "execution_count": null,
      "metadata": {
        "colab": {
          "base_uri": "https://localhost:8080/"
        },
        "id": "ruQ5JddhQJyZ",
        "outputId": "13029cbb-cf0e-4604-dfb6-5664e0572118"
      },
      "outputs": [],
      "source": [
        "print(result)"
      ]
    },
    {
      "cell_type": "code",
      "execution_count": null,
      "metadata": {
        "colab": {
          "base_uri": "https://localhost:8080/"
        },
        "id": "yQ2gbn2pQLRA",
        "outputId": "6dd9930d-bda5-4dc2-9706-2ddd2a4e1fab"
      },
      "outputs": [],
      "source": [
        "inputs = {\n",
        "    \"query\": \"What are the top 5 desired jobs that pay more than 100000 USD?\"\n",
        "}\n",
        "\n",
        "result = crew.kickoff(inputs=inputs)"
      ]
    },
    {
      "cell_type": "code",
      "execution_count": null,
      "metadata": {
        "colab": {
          "base_uri": "https://localhost:8080/"
        },
        "id": "QUhFeG2zRmYt",
        "outputId": "a41dc698-d5a3-4cb8-fa98-d0381c7d4467"
      },
      "outputs": [],
      "source": [
        "print(result)"
      ]
    }
  ],
  "metadata": {
    "colab": {
      "provenance": []
    },
    "kernelspec": {
      "display_name": "Python 3",
      "name": "python3"
    },
    "language_info": {
      "codemirror_mode": {
        "name": "ipython",
        "version": 3
      },
      "file_extension": ".py",
      "mimetype": "text/x-python",
      "name": "python",
      "nbconvert_exporter": "python",
      "pygments_lexer": "ipython3",
      "version": "3.11.9"
    }
  },
  "nbformat": 4,
  "nbformat_minor": 0
}
